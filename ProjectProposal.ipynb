{
 "cells": [
  {
   "cell_type": "markdown",
   "metadata": {},
   "source": [
    "# Project Proposal"
   ]
  },
  {
   "cell_type": "markdown",
   "metadata": {},
   "source": [
    "### Project Introduction\n",
    "Team members - Jackie Ramsey and Lin Ai Tan  \n",
    "Project name - Mental Health in Technology  "
   ]
  },
  {
   "cell_type": "markdown",
   "metadata": {},
   "source": [
    "### Dataset description  \n",
    "1. Its source, format, and its contents\n",
    "    * Source: Kaggle  \n",
    "    * Format: .xlsx  \n",
    "    * Contents: 27 attributes with 1259 rows spanning topics related to technology and mental health  \n",
    "\n",
    "2. Include a brief description of the attributes and what you will use as class information (i.e., what attribute(s) you will try to predict).  \n",
    "    * Attributes: The data consists of personal attributes related to mental health that are impacted by the technological world people are working in such as self-employed, remote or in person working, type of company, wellness programs. \n",
    "    * Classifiers: The classifiers we will use: age, gender, self_employed, family_history, treatment, remote_work, wellness_program, seek_help.  \n",
    "    * Predicting: mental_health_consequence.  "
   ]
  },
  {
   "cell_type": "markdown",
   "metadata": {},
   "source": [
    "###  Implementation/technical merit\n",
    "1. Anticipated challenges in pre-processing and/or classification  \n",
    "Missing data (NA), pre-processing for age since it is not binary, mix inputs - (Don’t know, not sure use interchangeably, Male and M, Female and F), ambiguity in Maybe (should be in separate class, discarded or counted as yes?)\n",
    "\n",
    "2. If the number of attributes is large, how will you explore feature selection techniques to pare down the attributes?  \n",
    "Pruning in decision tree, pearson correlation, chi-squared\n",
    "\n"
   ]
  },
  {
   "cell_type": "markdown",
   "metadata": {},
   "source": [
    "### Potential impacts of the results\n",
    "1. Why are these results useful?  \n",
    "They can increase awareness of one’s mental health in tech and what steps/approaches can be done to improve their wellbeing. Help improve the productivity of employees in a company  \n",
    "\n",
    "2. Who are stakeholders (users/groups that are impacted by the outcome of the project) interested in these results?  \n",
    "    * The HR division in companies which are working to find solutions to better the mental health of their employees. Their responsibility for ensuring a quality work environment would be aided by results of this data.\n",
    "\t* Employees who are deciding if they should work in person or remotely. \n",
    "\t* Prospective employees who are considering their available career options.\n"
   ]
  }
 ],
 "metadata": {
  "language_info": {
   "name": "python"
  },
  "orig_nbformat": 4
 },
 "nbformat": 4,
 "nbformat_minor": 2
}
