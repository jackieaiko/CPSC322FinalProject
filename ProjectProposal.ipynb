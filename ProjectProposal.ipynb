{
 "cells": [
  {
   "cell_type": "markdown",
   "metadata": {},
   "source": [
    "# Project Proposal"
   ]
  },
  {
   "cell_type": "markdown",
   "metadata": {},
   "source": [
    "### Project Introduction\n",
    "Team members - Jackie Ramsey and Lin Ai Tan  \n",
    "Project name - Mental Health in Technology  "
   ]
  },
  {
   "cell_type": "markdown",
   "metadata": {},
   "source": [
    "### Dataset description  \n",
    "1. Its source, format, and its contents\n",
    "    * Source: Kaggle  \n",
    "    * Format: .xlsx  \n",
    "    * Contents: 27 attributes with 1259 rows spanning topics related to technology and mental health  \n",
    "\n",
    "2. Include a brief description of the attributes and what you will use as class information (i.e., what attribute(s) you will try to predict).  \n",
    "    * Attributes: The data consists of personal attributes related to mental health that are impacted by the technological world people are working in such as self-employed, remote or in person working, type of company, wellness programs. \n",
    "    * Classifiers: age, country, state, work_interfere, benefits, care_option, leave, physical health, gender, self_employed, family_history, treatment, remote_work, wellness_program, seek_help,etc.  \n",
    "    * Predicting: mental_health_consequence.  "
   ]
  },
  {
   "cell_type": "markdown",
   "metadata": {},
   "source": [
    "###  Implementation/technical merit\n",
    "1. Anticipated challenges in pre-processing and/or classification  \n",
    "This data from kaggle has not been cleaned yet, so we expect to fo a lot of data cleaning and filtering before beginning our processing. There are missing data throughout the dataset, and some columns with majority NA values, so we have to decide if we need to discard the column. There are also a lot of mix input types, such as Male and M, female and F are used interchangebly in the genders column. Most of the data are also not binary inputs, and some columns such as no_employed has dates and explanations that vary for almost every row in the column and are impossible to group them together. Moreover, some columns do not seem to contribute directly to the dataset such as \"country\", if we are interested just in general about the mental health of employees in tech fields. Lastly, there's an ambiguity in 'Maybe', such as how we should classify it (should be in separate class, discarded or counted as yes?).\n",
    "\n",
    "2. If the number of attributes is large, how will you explore feature selection techniques to pare down the attributes?  \n",
    "We would have to peform pruning in decision tree, calculate pearson correlation or perform a chi-squared test. Some attributes are also obvious to drop, if all rows in the attribute is NA.\n",
    "\n"
   ]
  },
  {
   "cell_type": "markdown",
   "metadata": {},
   "source": [
    "### Potential impacts of the results\n",
    "1. Why are these results useful?  \n",
    "The results are useful because they can increase awareness of ones mental health in tech especially when this topic is often not discuss in the tech workforce. They can also inform what steps/approaches that can be done to improve their wellbeing of the employee or the individual. This would then lead to increase in productivity of employees in a company and employee satisfaction and happiness of their work and workplace \n",
    "\n",
    "2. Who are stakeholders (users/groups that are impacted by the outcome of the project) interested in these results?  \n",
    "    * The HR division in companies which are working to find solutions to better the mental health of their employees. Their responsibility for ensuring a quality work environment would be aided by results of this data. They can also use the results to inform the higher-ups on future planning and decision making that could affect the companys revenue.  \n",
    "\t* Employees who are deciding their work place and work place style, such as working remotely or in person or negotiating with their employer about what benefits and changes they would like to see in the workplace. \n",
    "\t* Prospective employees who are considering their available career options, as they will know what key components in a company they should pay attention to. For instance, if a company with a wellness program significantly improved their employees mental health, then a prospective employee may want to consider finding a company that has such a program.\n"
   ]
  }
 ],
 "metadata": {
  "language_info": {
   "name": "python"
  },
  "orig_nbformat": 4
 },
 "nbformat": 4,
 "nbformat_minor": 2
}
