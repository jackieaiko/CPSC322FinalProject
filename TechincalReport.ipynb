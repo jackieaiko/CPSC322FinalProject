{
 "cells": [
  {
   "cell_type": "code",
   "execution_count": 58,
   "metadata": {},
   "outputs": [],
   "source": [
    "# some useful mysklearn package import statements and reloads\n",
    "import importlib\n",
    "import os\n",
    "import numpy as np\n",
    "from tabulate import tabulate\n",
    "from copy import deepcopy\n",
    "\n",
    "import mysklearn.myutils\n",
    "importlib.reload(mysklearn.myutils)\n",
    "import mysklearn.myutils as myutils\n",
    "\n",
    "import mypytable\n",
    "import myutils\n",
    "importlib.reload(mypytable)\n",
    "importlib.reload(myutils)\n",
    "from mypytable import MyPyTable \n",
    "import myutils\n",
    "\n",
    "\n",
    "\n",
    "from sklearn.feature_selection import chi2\n",
    "\n",
    "import mysklearn.myclassifiers\n",
    "importlib.reload(mysklearn.myclassifiers)\n",
    "from mysklearn.myclassifiers import MyKNeighborsClassifier, MyDummyClassifier, MyNaiveBayesClassifier, MyDecisionTreeClassifier, MyRandomForestClassifier\n",
    "\n",
    "import mysklearn.myevaluation\n",
    "importlib.reload(mysklearn.myevaluation)\n",
    "import mysklearn.myevaluation as myevaluation"
   ]
  },
  {
   "cell_type": "markdown",
   "metadata": {},
   "source": [
    "# Introduction\n",
    "Team Members: Jackie Ramsey and Lin AI Tan  \n",
    "\n",
    "Dataset Topic: Mental health status is relation to work/job conditions and personal wellness.  \n",
    "\n",
    "Description: Each row in our dataset is a survey completed by a person in the work force. This dataset reported the result of attributes that could possibly determine the status of a person's mental health. Most of these attribute topics had to do with a person's relationship with their company or personal state of being. This included attributes such as benefits, remote_work, family_history, and others. The attribute we chose to classify was the mental_health_consequence. The result could be either \"yes\", \"no\", or \"maybe\".  \n",
    "\n",
    "Findings: We performed and compared the Dummy, kNN, Naive Bayes, Decision Tree, and Random Forest classifiers. The classifier that had the best performance was the ___ classifier.  "
   ]
  },
  {
   "cell_type": "code",
   "execution_count": 59,
   "metadata": {},
   "outputs": [
    {
     "data": {
      "text/plain": [
       "<mypytable.MyPyTable at 0x7f69407c43a0>"
      ]
     },
     "execution_count": 59,
     "metadata": {},
     "output_type": "execute_result"
    }
   ],
   "source": [
    "survey_fname = os.path.join(\"input_data\",\"survey.csv\")\n",
    "survey_table = MyPyTable()\n",
    "survey_table.load_from_file(survey_fname)"
   ]
  },
  {
   "cell_type": "markdown",
   "metadata": {},
   "source": [
    "# Data Analysis\n",
    "dataset information:\n",
    "1. original: 27 attributes with 1259 rows  \n",
    "2. cleaned: 23 attributes with 1005 rows  \n",
    "3. attribute selection: 12 attributes with 1005 rows  \n",
    "4. resulting attributes: 'treatment', 'tech_company', 'wellness_program', 'seek_help', 'anonymity', 'leave', 'phys_health_consequence', 'coworkers', 'supervisor', 'mental_health_interview', 'mental_vs_physical', 'obs_consequence' + classifer('mental_health_consequence')\n",
    "\n",
    "summary statistics:  \n",
    "data visulization"
   ]
  },
  {
   "cell_type": "markdown",
   "metadata": {},
   "source": [
    "## Clean dataset:  \n",
    "a) Remove irrelevant columns or columns that we cannot classify:  \n",
    "- Timestamp : removed because cannot be classify    \n",
    "- Comments : removed because cannot be classify    \n",
    "- Country : removed because majority is United States. We are also not interested in places but more interested in exploring mental health of people in tech in general regardless of their physical location  \n",
    "- State : removed because again, we are interested in exploring mental health of people in tech in general regardless of their physical location\n",
    "    "
   ]
  },
  {
   "cell_type": "code",
   "execution_count": 60,
   "metadata": {},
   "outputs": [
    {
     "name": "stdout",
     "output_type": "stream",
     "text": [
      "['Age', 'Gender', 'self_employed', 'family_history', 'treatment', 'work_interfere', 'no_employees', 'remote_work', 'tech_company', 'benefits', 'care_options', 'wellness_program', 'seek_help', 'anonymity', 'leave', 'mental_health_consequence', 'phys_health_consequence', 'coworkers', 'supervisor', 'mental_health_interview', 'phys_health_interview', 'mental_vs_physical', 'obs_consequence']\n"
     ]
    }
   ],
   "source": [
    "name_of_col_to_remove = [\"Timestamp\",\"Country\",\"state\",\"comments\"]\n",
    "for col_name in name_of_col_to_remove:\n",
    "    survey_table.data, survey_table.column_names = myutils.remove_column(survey_table.data,survey_table.column_names,col_name)\n",
    "print(survey_table.column_names)"
   ]
  },
  {
   "cell_type": "markdown",
   "metadata": {},
   "source": [
    "b) Ensure consistency of data  \n",
    "Some columns do not use consistent label. To identify columns with inconsistent label, we will print out all unique labels, and then edit from here:      "
   ]
  },
  {
   "cell_type": "code",
   "execution_count": 61,
   "metadata": {},
   "outputs": [
    {
     "name": "stdout",
     "output_type": "stream",
     "text": [
      "\n",
      "Age\n",
      "[37.0, 44.0, 32.0, 31.0, 33.0, 35.0, 39.0, 42.0, 23.0, 29.0, 36.0, 27.0, 46.0, 41.0, 34.0, 30.0, 40.0, 38.0, 50.0, 24.0, 18.0, 28.0, 26.0, 22.0, 19.0, 25.0, 45.0, 21.0, -29.0, 43.0, 56.0, 60.0, 54.0, 329.0, 55.0, 99999999999.0, 48.0, 20.0, 57.0, 58.0, 47.0, 62.0, 51.0, 65.0, 49.0, -1726.0, 5.0, 53.0, 61.0, 8.0, 11.0, -1.0, 72.0]\n",
      "\n",
      "Gender\n",
      "['Female', 'M', 'Male', 'male', 'female', 'm', 'Male-ish', 'maile', 'Trans-female', 'Cis Female', 'F', 'something kinda male?', 'Cis Male', 'Woman', 'f', 'Mal', 'Male (CIS)', 'queer/she/they', 'non-binary', 'Femake', 'woman', 'Make', 'Nah', 'All', 'Enby', 'fluid', 'Genderqueer', 'Female ', 'Androgyne', 'Agender', 'cis-female/femme', 'Guy (-ish) ^_^', 'male leaning androgynous', 'Male ', 'Man', 'Trans woman', 'msle', 'Neuter', 'Female (trans)', 'queer', 'Female (cis)', 'Mail', 'cis male', 'A little about you', 'Malr', 'p', 'femail', 'Cis Man', 'ostensibly male, unsure what that really means']\n",
      "\n",
      "self_employed\n",
      "['NA', 'Yes', 'No']\n",
      "\n",
      "family_history\n",
      "['No', 'Yes']\n",
      "\n",
      "treatment\n",
      "['Yes', 'No']\n",
      "\n",
      "work_interfere\n",
      "['Often', 'Rarely', 'Never', 'Sometimes', 'NA']\n",
      "\n",
      "no_employees\n",
      "['6-25', 'More than 1000', '26-100', '100-500', '1-5', '500-1000']\n",
      "\n",
      "remote_work\n",
      "['No', 'Yes']\n",
      "\n",
      "tech_company\n",
      "['Yes', 'No']\n",
      "\n",
      "benefits\n",
      "['Yes', \"Don't know\", 'No']\n",
      "\n",
      "care_options\n",
      "['Not sure', 'No', 'Yes']\n",
      "\n",
      "wellness_program\n",
      "['No', \"Don't know\", 'Yes']\n",
      "\n",
      "seek_help\n",
      "['Yes', \"Don't know\", 'No']\n",
      "\n",
      "anonymity\n",
      "['Yes', \"Don't know\", 'No']\n",
      "\n",
      "leave\n",
      "['Somewhat easy', \"Don't know\", 'Somewhat difficult', 'Very difficult', 'Very easy']\n",
      "\n",
      "mental_health_consequence\n",
      "['No', 'Maybe', 'Yes']\n",
      "\n",
      "phys_health_consequence\n",
      "['No', 'Yes', 'Maybe']\n",
      "\n",
      "coworkers\n",
      "['Some of them', 'No', 'Yes']\n",
      "\n",
      "supervisor\n",
      "['Yes', 'No', 'Some of them']\n",
      "\n",
      "mental_health_interview\n",
      "['No', 'Yes', 'Maybe']\n",
      "\n",
      "phys_health_interview\n",
      "['Maybe', 'No', 'Yes']\n",
      "\n",
      "mental_vs_physical\n",
      "['Yes', \"Don't know\", 'No']\n",
      "\n",
      "obs_consequence\n",
      "['No', 'Yes']\n"
     ]
    }
   ],
   "source": [
    "for names in survey_table.column_names:\n",
    "    labels = myutils.get_groups_in_col(survey_table.data,survey_table.column_names,names)\n",
    "    print()\n",
    "    print(names)\n",
    "    print(labels)"
   ]
  },
  {
   "cell_type": "markdown",
   "metadata": {},
   "source": [
    "- Gender: Male, M, Female, F, m, f, cis-female/femme, cis-male and mispelling such as msle and \"A little about you\". Other categories such as male-ish, trans, neuter and p are also present but in relatively low amount (2- 3 rows ish in the whole dataset). Because of this, mispellings and other categories rows will be removed because it is ambiguous as to how to classify them as well as the low number of rows having this classification, so it has little impact. Female, female f and cis-female will be converted to F, and Male, male, m and cis-male will be converted to male "
   ]
  },
  {
   "cell_type": "code",
   "execution_count": 62,
   "metadata": {},
   "outputs": [
    {
     "name": "stdout",
     "output_type": "stream",
     "text": [
      "['Female', 'M', 'Male', 'male', 'female', 'm', 'Male-ish', 'maile', 'Trans-female', 'Cis Female', 'F', 'something kinda male?', 'Cis Male', 'Woman', 'f', 'Mal', 'Male (CIS)', 'queer/she/they', 'non-binary', 'Femake', 'woman', 'Make', 'Nah', 'All', 'Enby', 'fluid', 'Genderqueer', 'Female ', 'Androgyne', 'Agender', 'cis-female/femme', 'Guy (-ish) ^_^', 'male leaning androgynous', 'Male ', 'Man', 'Trans woman', 'msle', 'Neuter', 'Female (trans)', 'queer', 'Female (cis)', 'Mail', 'cis male', 'A little about you', 'Malr', 'p', 'femail', 'Cis Man', 'ostensibly male, unsure what that really means']\n"
     ]
    }
   ],
   "source": [
    "# group up by gender  \n",
    "gender_labels = myutils.get_groups_in_col(survey_table.data,survey_table.column_names,\"Gender\")\n",
    "print(gender_labels)"
   ]
  },
  {
   "cell_type": "code",
   "execution_count": 63,
   "metadata": {},
   "outputs": [
    {
     "name": "stdout",
     "output_type": "stream",
     "text": [
      "1214\n"
     ]
    }
   ],
   "source": [
    "#remove any gender label that is not Male, m, M, female, Female, f or Cis Female or Cis Male\n",
    "gender_col= survey_table.get_column(\"Gender\")\n",
    "col_index = survey_table.column_names.index(\"Gender\")\n",
    "survey_table.data = myutils.remove_gender_rows(survey_table.data, gender_col,col_index)\n",
    "print(len(gender_col)) # only 45 rows removed in total"
   ]
  },
  {
   "cell_type": "markdown",
   "metadata": {},
   "source": [
    "- self_employed: No, Yes and NA. NA will be discarded because of low ambiguity and also not obvious classification, and also the number of rows present are not alot  \n",
    "- NA in work_interfere will also be discarded"
   ]
  },
  {
   "cell_type": "code",
   "execution_count": 64,
   "metadata": {},
   "outputs": [
    {
     "name": "stdout",
     "output_type": "stream",
     "text": [
      "1214\n",
      "1205\n"
     ]
    }
   ],
   "source": [
    "# group up by self_employed:  \n",
    "print(len(survey_table.data))\n",
    "self_employed_labels = myutils.get_groups_in_col(survey_table.data,survey_table.column_names,\"self_employed\")\n",
    "\n",
    "# remove NA values\n",
    "survey_table.data = myutils.remove_NA(survey_table.data,survey_table.column_names,\"self_employed\")\n",
    "print(len(survey_table.data)) # only 9 rows removed"
   ]
  },
  {
   "cell_type": "code",
   "execution_count": 65,
   "metadata": {},
   "outputs": [
    {
     "name": "stdout",
     "output_type": "stream",
     "text": [
      "['Often', 'Rarely', 'Never', 'Sometimes', 'NA']\n",
      "1005\n"
     ]
    }
   ],
   "source": [
    "# group up by work interfere:  \n",
    "work_inf_labels = myutils.get_groups_in_col(survey_table.data,survey_table.column_names,\"work_interfere\")\n",
    "print(work_inf_labels)\n",
    "\n",
    "# remove NA values\n",
    "survey_table.data = myutils.remove_NA(survey_table.data,survey_table.column_names,\"work_interfere\")\n",
    "print(len(survey_table.data)) # 200 rows removed\n"
   ]
  },
  {
   "cell_type": "markdown",
   "metadata": {},
   "source": [
    "Group by age:  \n",
    "The following is a popular type of demographic question for age, this one taken from the profile questionnaire for the American Marketing Association itself:\n",
    "\n",
    "Age Range  \n",
    "[ ] 21 and Under  \n",
    "[ ] 22 to 34  \n",
    "[ ] 35 to 44  \n",
    "[ ] 45 to 54  \n",
    "[ ] 55 to 64  \n",
    "[ ] 65 and Over  "
   ]
  },
  {
   "cell_type": "code",
   "execution_count": 66,
   "metadata": {},
   "outputs": [],
   "source": [
    "# group age values\n",
    "survey_table.data = myutils.group_by_age(survey_table.data,survey_table.column_names,\"Age\")"
   ]
  },
  {
   "cell_type": "markdown",
   "metadata": {},
   "source": [
    "## Attribute Selection\n",
    "a) used scikit learn to implement $X^2$"
   ]
  },
  {
   "cell_type": "code",
   "execution_count": 67,
   "metadata": {},
   "outputs": [],
   "source": [
    "copied_data = deepcopy(survey_table.data)\n",
    "copied_column_names = deepcopy(survey_table.column_names)\n",
    "copied_data = myutils.convert_attributes_to_numeric(copied_data,copied_column_names)\n",
    "# print(survey_table.data)\n",
    "y_data = myutils.get_column(copied_data,copied_column_names, \"mental_health_consequence\")\n",
    "X_data, X_header = myutils.remove_column(copied_data,copied_column_names, \"mental_health_consequence\")"
   ]
  },
  {
   "cell_type": "code",
   "execution_count": 68,
   "metadata": {},
   "outputs": [
    {
     "name": "stdout",
     "output_type": "stream",
     "text": [
      "p-values > 0.05\n",
      "Age 0.8824733457290607\n",
      "Gender 0.15795134688643178\n",
      "self_employed 0.6796214001313641\n",
      "family_history 0.078255208808712\n",
      "work_interfere 0.08993466307843892\n",
      "no_employees 0.5793739376203617\n",
      "remote_work 0.33147416819557657\n",
      "benefits 0.053843040003000935\n",
      "care_options 0.6531744396799135\n",
      "phys_health_interview 0.18637924658189706\n"
     ]
    }
   ],
   "source": [
    "chi_2, p_value = chi2(X_data, y_data)\n",
    "headers_to_remove = myutils.col_pval(p_value, X_header)\n",
    "y_data = myutils.get_column(survey_table.data,survey_table.column_names,\"mental_health_consequence\")"
   ]
  },
  {
   "cell_type": "code",
   "execution_count": 69,
   "metadata": {},
   "outputs": [
    {
     "name": "stdout",
     "output_type": "stream",
     "text": [
      "['treatment', 'tech_company', 'wellness_program', 'seek_help', 'anonymity', 'leave', 'phys_health_consequence', 'coworkers', 'supervisor', 'mental_health_interview', 'mental_vs_physical', 'obs_consequence']\n",
      "['Yes', 'Yes', 'No', 'Yes', 'Yes', 'Somewhat easy', 'No', 'Some of them', 'Yes', 'No', 'Yes', 'No']\n"
     ]
    }
   ],
   "source": [
    "# remove headers with p_value larger than 0.05\n",
    "for header in headers_to_remove:\n",
    "    survey_table.data, survey_table.column_names = myutils.remove_column(survey_table.data,survey_table.column_names,header)\n",
    "\n",
    "y_data = myutils.get_column(survey_table.data,survey_table.column_names,\"mental_health_consequence\")\n",
    "survey_table.data, survey_table.column_names = myutils.remove_column(survey_table.data,survey_table.column_names, \"mental_health_consequence\")\n",
    "print(survey_table.column_names)\n",
    "print(survey_table.data[0])"
   ]
  },
  {
   "cell_type": "markdown",
   "metadata": {},
   "source": [
    "## Visualization"
   ]
  },
  {
   "cell_type": "code",
   "execution_count": 70,
   "metadata": {},
   "outputs": [
    {
     "data": {
      "image/png": "[encoded data removed]",
      "text/plain": [
       "<Figure size 432x288 with 1 Axes>"
      ]
     },
     "metadata": {},
     "output_type": "display_data"
    }
   ],
   "source": [
    "table = [survey_table.data[i] + [y_data[i]] for i in range(len(y_data))]\n",
    "header_names = survey_table.column_names + [\"mental_health_consequence\"]\n",
    "mental_consequence_names, mental_consequence__subtables = myutils.group_by(table, header_names, \"mental_health_consequence\")\n",
    "mc_sums = [len(mental_consequence__subtables[0]), len(mental_consequence__subtables[1]), len(mental_consequence__subtables[2])]\n",
    "myutils.pie_chart(mental_consequence_names, mc_sums, \"Mental Health Consequence Instances\")\n"
   ]
  },
  {
   "cell_type": "code",
   "execution_count": 71,
   "metadata": {},
   "outputs": [
    {
     "data": {
      "image/png": "[encoded data removed]",
      "text/plain": [
       "<Figure size 432x288 with 1 Axes>"
      ]
     },
     "metadata": {
      "needs_background": "light"
     },
     "output_type": "display_data"
    }
   ],
   "source": [
    "col_yes_sums = []\n",
    "yes_headers = []\n",
    "for attribute in survey_table.column_names:\n",
    "    wellness_program_header, wellness_program_subtables =  myutils.group_by(table, header_names, attribute)\n",
    "    if attribute != \"leave\":\n",
    "        index_yes = wellness_program_header.index(\"Yes\")\n",
    "        col_yes_sums.append(len(wellness_program_subtables[index_yes]))\n",
    "        yes_headers.append(attribute)\n",
    "myutils.bar_chart(yes_headers, col_yes_sums, \"Yes Response to Survey\", \"Attribute\", \"Amount of Yes's\")\n",
    "    "
   ]
  },
  {
   "cell_type": "code",
   "execution_count": 72,
   "metadata": {},
   "outputs": [
    {
     "data": {
      "image/png": "[encoded data removed]",
      "text/plain": [
       "<Figure size 432x288 with 1 Axes>"
      ]
     },
     "metadata": {
      "needs_background": "light"
     },
     "output_type": "display_data"
    }
   ],
   "source": [
    "col_yes_sums = []\n",
    "yes_headers = []\n",
    "for attribute in survey_table.column_names:\n",
    "    wellness_program_header, wellness_program_subtables =  myutils.group_by(table, header_names, attribute)\n",
    "    if attribute != \"leave\":\n",
    "        index_yes = wellness_program_header.index(\"No\")\n",
    "        col_yes_sums.append(len(wellness_program_subtables[index_yes]))\n",
    "        yes_headers.append(attribute)\n",
    "myutils.bar_chart(yes_headers, col_yes_sums, \"No Response to Survey\", \"Attribute\", \"Amount of No's\")"
   ]
  },
  {
   "cell_type": "code",
   "execution_count": 73,
   "metadata": {},
   "outputs": [
    {
     "data": {
      "image/png": "[encoded data removed]",
      "text/plain": [
       "<Figure size 432x288 with 1 Axes>"
      ]
     },
     "metadata": {
      "needs_background": "light"
     },
     "output_type": "display_data"
    }
   ],
   "source": [
    "myutils.bar_chart(X_header, p_value, \"P=Value of Each Attribute\", \"Attribute\", \"p-value\")"
   ]
  },
  {
   "cell_type": "markdown",
   "metadata": {},
   "source": [
    "# Classification"
   ]
  },
  {
   "cell_type": "code",
   "execution_count": 74,
   "metadata": {},
   "outputs": [],
   "source": [
    "n_splits = 10\n",
    "train_folds, test_folds = myevaluation.stratified_kfold_cross_validation(survey_table.data, y_data, n_splits=n_splits)\n",
    "labels = [\"No\",\"Maybe\",\"Yes\"]\n",
    "pos_label = \"Yes\"\n",
    "matrices = []"
   ]
  },
  {
   "cell_type": "code",
   "execution_count": 75,
   "metadata": {},
   "outputs": [
    {
     "name": "stdout",
     "output_type": "stream",
     "text": [
      "Random Forest Classifier\n",
      "Precision: 0.41\n",
      "Recall: 0.28\n",
      "F1: 0.33\n"
     ]
    }
   ],
   "source": [
    "remainder_set_X, test_set_X, remainder_set_y, test_set_y = myevaluation.train_test_split(\n",
    "    survey_table.data, y_data)\n",
    "random_forest = MyRandomForestClassifier(10,15,9)\n",
    "random_forest.fit(remainder_set_X,remainder_set_y)\n",
    "y_predicted = random_forest.predict(test_set_X)\n",
    "\n",
    "precision = myevaluation.binary_precision_score(test_set_y, y_predicted)\n",
    "recall = myevaluation.binary_recall_score(test_set_y, y_predicted)\n",
    "f1 = myevaluation.binary_f1_score(test_set_y, y_predicted)\n",
    "\n",
    "print(\"Random Forest Classifier\")\n",
    "print(\"Precision:\", float(\"{:.2f}\".format(precision)))\n",
    "print(\"Recall:\", float(\"{:.2f}\".format(recall)))\n",
    "print(\"F1:\", float(\"{:.2f}\".format(f1)))"
   ]
  },
  {
   "cell_type": "markdown",
   "metadata": {},
   "source": [
    "In our iterations of different N values, M values and F values, we found that the higher the f value, the higher the precision, recall and f1 values is regardless of the N value and M values. N values and M values have little effect on the precision, but still a small N value and M value is not as precise as a medium or large N value and M value for the same f value. We also found that larger M values or larger N values independent of F values does not show an increase in precision, and medium is the best balance for M values while for N values smaller is better. Thus, the best combination, that would give us the most gain is to use a small N value, medium M and high F value as it gives us the best precison, recall and f1 score at 0.76"
   ]
  },
  {
   "cell_type": "code",
   "execution_count": 76,
   "metadata": {},
   "outputs": [
    {
     "name": "stdout",
     "output_type": "stream",
     "text": [
      "Dummy Classifier (Stratified 10-Fold Cross Validation Results):\n",
      "--------------------------------------------------------------\n",
      "Accuracy: 0.39\n",
      "Error Rate: 0.61\n",
      "\n",
      "Precision: 0.39\n",
      "Recall: 1.0\n",
      "F1: 0.56\n",
      "\n",
      "Confusion Matrices\n",
      "===========================================\n",
      "\n",
      "Dummy Classifier (Stratified 10-fold cross validation Results):\n",
      "Mental Health Consequences      No    Maybe    Yes    Total    Recognition (%)\n",
      "----------------------------  ----  -------  -----  -------  -----------------\n",
      "No                             387        0      0      387                100\n",
      "Maybe                          386        0      0      386                  0\n",
      "Yes                            232        0      0      232                  0\n",
      "KNN Classifier (Stratified 10-Fold Cross Validation Results):\n",
      "--------------------------------------------------------------\n",
      "Accuracy: 0.94\n",
      "Error Rate: 0.06\n",
      "\n",
      "Precision: 0.96\n",
      "Recall: 0.95\n",
      "F1: 0.96\n",
      "\n",
      "Confusion Matrices\n",
      "===========================================\n",
      "\n",
      "KNN Classifier (Stratified 10-fold cross validation Results):\n",
      "Mental Health Consequences      No    Maybe    Yes    Total    Recognition (%)\n",
      "----------------------------  ----  -------  -----  -------  -----------------\n",
      "No                             369       14      4      387            95.3488\n",
      "Maybe                           14      364      8      386            94.3005\n",
      "Yes                              2       18    212      232            91.3793\n",
      "Naive Bayes Classifier (Stratified 10-Fold Cross Validation Results):\n",
      "--------------------------------------------------------------\n",
      "Accuracy: 0.71\n",
      "Error Rate: 0.29\n",
      "\n",
      "Precision: 0.78\n",
      "Recall: 0.79\n",
      "F1: 0.78\n",
      "\n",
      "Confusion Matrices\n",
      "===========================================\n",
      "\n",
      "Naive Bayes Classifier (Stratified 10-fold cross validation Results):\n",
      "Mental Health Consequences      No    Maybe    Yes    Total    Recognition (%)\n",
      "----------------------------  ----  -------  -----  -------  -----------------\n",
      "No                             306       70     11      387            79.0698\n",
      "Maybe                           78      252     56      386             65.285\n",
      "Yes                              9       70    153      232            65.9483\n",
      "Decision Tree Classifier (Stratified 10-Fold Cross Validation Results):\n",
      "--------------------------------------------------------------\n",
      "Accuracy: 0.54\n",
      "Error Rate: 0.46\n",
      "\n",
      "Precision: 0.57\n",
      "Recall: 0.43\n",
      "F1: 0.49\n",
      "\n",
      "Confusion Matrices\n",
      "===========================================\n",
      "\n",
      "Decision Tree Classifier (Stratified 10-fold cross validation Results):\n",
      "Mental Health Consequences      No    Maybe    Yes    Total    Recognition (%)\n",
      "----------------------------  ----  -------  -----  -------  -----------------\n",
      "No                             168      172     47      387            43.4109\n",
      "Maybe                           74      217     95      386            56.2176\n",
      "Yes                             51       23    158      232            68.1034\n"
     ]
    }
   ],
   "source": [
    "classifier_names= [\"Dummy Classifier\",\"KNN Classifier\",\"Naive Bayes Classifier\",\"Decision Tree Classifier\"]\n",
    "f = 10\n",
    "for name in classifier_names:\n",
    "    myutils.parameterized_classifiers(train_folds,test_folds,n_splits,survey_table,y_data,name, f)"
   ]
  },
  {
   "cell_type": "markdown",
   "metadata": {},
   "source": [
    "## Results\n",
    "Approach: We used stratified cross fold validation for each of our classifiers (except random forest) so that we could use more than one instance to develop the confusion matrices and see a more accurate representation of the classifier's performance.  \n",
    "\n",
    "Dummy:  \n",
    "kNN:  \n",
    "Naive Bayes:  \n",
    "Random Forest Classifier: When N, M, and F were larger, the recognition increased. This showed that a greater number of decision trees used caused better precision. However, the recognition leveled out soon after and was consistently around the values shown above.  \n",
    "\n",
    "Best:  "
   ]
  },
  {
   "cell_type": "markdown",
   "metadata": {},
   "source": [
    "# Conclusion\n",
    "ideas to imrpove classification  \n",
    "challenges performing classifiacation  \n",
    "brief showing of any key components of code  \n",
    "brief breakdown of what each partner contributed to the implementation  \n",
    "sources  "
   ]
  }
 ],
 "metadata": {
  "interpreter": {
   "hash": "d4d1e4263499bec80672ea0156c357c1ee493ec2b1c70f0acce89fc37c4a6abe"
  },
  "kernelspec": {
   "display_name": "Python 3.9.7 ('base')",
   "language": "python",
   "name": "python3"
  },
  "language_info": {
   "codemirror_mode": {
    "name": "ipython",
    "version": 3
   },
   "file_extension": ".py",
   "mimetype": "text/x-python",
   "name": "python",
   "nbconvert_exporter": "python",
   "pygments_lexer": "ipython3",
   "version": "3.9.7"
  },
  "orig_nbformat": 4
 },
 "nbformat": 4,
 "nbformat_minor": 2
}
