{
 "cells": [
  {
   "cell_type": "code",
   "execution_count": 1,
   "metadata": {},
   "outputs": [],
   "source": [
    "# some useful mysklearn package import statements and reloads\n",
    "import importlib\n",
    "import os\n",
    "import numpy as np\n",
    "from tabulate import tabulate\n",
    "\n",
    "import mypytable\n",
    "import myutils\n",
    "importlib.reload(mypytable)\n",
    "importlib.reload(myutils)\n",
    "from mypytable import MyPyTable \n",
    "import myutils\n",
    "\n",
    "from sklearn.feature_selection import chi2"
   ]
  },
  {
   "cell_type": "markdown",
   "metadata": {},
   "source": [
    "# 1. Load dataset"
   ]
  },
  {
   "cell_type": "code",
   "execution_count": 2,
   "metadata": {},
   "outputs": [
    {
     "data": {
      "text/plain": [
       "<mypytable.MyPyTable at 0x7f38083f1d90>"
      ]
     },
     "execution_count": 2,
     "metadata": {},
     "output_type": "execute_result"
    }
   ],
   "source": [
    "survey_fname = os.path.join(\"input_data\",\"survey.csv\")\n",
    "survey_table = MyPyTable()\n",
    "survey_table.load_from_file(survey_fname)"
   ]
  },
  {
   "cell_type": "markdown",
   "metadata": {},
   "source": [
    "## 2. Clean dataset:  \n",
    "a) Remove irrelevant columns or columns that we cannot classify:  \n",
    "- Timestamp : removed because cannot be classify    \n",
    "- Comments : removed because cannot be classify    \n",
    "- Country : removed because majority is United States. We are also not interested in places but more interested in exploring mental health of people in tech in general regardless of their physical location  \n",
    "- State : removed because again, we are interested in exploring mental health of people in tech in general regardless of their physical location\n",
    "    "
   ]
  },
  {
   "cell_type": "code",
   "execution_count": 3,
   "metadata": {},
   "outputs": [
    {
     "name": "stdout",
     "output_type": "stream",
     "text": [
      "['Age', 'Gender', 'self_employed', 'family_history', 'treatment', 'work_interfere', 'no_employees', 'remote_work', 'tech_company', 'benefits', 'care_options', 'wellness_program', 'seek_help', 'anonymity', 'leave', 'mental_health_consequence', 'phys_health_consequence', 'coworkers', 'supervisor', 'mental_health_interview', 'phys_health_interview', 'mental_vs_physical', 'obs_consequence']\n"
     ]
    }
   ],
   "source": [
    "name_of_col_to_remove = [\"Timestamp\",\"Country\",\"state\",\"comments\"]\n",
    "for col_name in name_of_col_to_remove:\n",
    "    survey_table.data, survey_table.column_names = myutils.remove_column(survey_table.data,survey_table.column_names,col_name)\n",
    "print(survey_table.column_names)"
   ]
  },
  {
   "cell_type": "markdown",
   "metadata": {},
   "source": [
    "b) Ensure consistency of data  \n",
    "Some columns do not use consistent label. To identify columns with inconsistent label, we will print out all unique labels, and then edit from here:      "
   ]
  },
  {
   "cell_type": "code",
   "execution_count": 4,
   "metadata": {},
   "outputs": [
    {
     "name": "stdout",
     "output_type": "stream",
     "text": [
      "\n",
      "Age\n",
      "[37.0, 44.0, 32.0, 31.0, 33.0, 35.0, 39.0, 42.0, 23.0, 29.0, 36.0, 27.0, 46.0, 41.0, 34.0, 30.0, 40.0, 38.0, 50.0, 24.0, 18.0, 28.0, 26.0, 22.0, 19.0, 25.0, 45.0, 21.0, -29.0, 43.0, 56.0, 60.0, 54.0, 329.0, 55.0, 99999999999.0, 48.0, 20.0, 57.0, 58.0, 47.0, 62.0, 51.0, 65.0, 49.0, -1726.0, 5.0, 53.0, 61.0, 8.0, 11.0, -1.0, 72.0]\n",
      "\n",
      "Gender\n",
      "['Female', 'M', 'Male', 'male', 'female', 'm', 'Male-ish', 'maile', 'Trans-female', 'Cis Female', 'F', 'something kinda male?', 'Cis Male', 'Woman', 'f', 'Mal', 'Male (CIS)', 'queer/she/they', 'non-binary', 'Femake', 'woman', 'Make', 'Nah', 'All', 'Enby', 'fluid', 'Genderqueer', 'Female ', 'Androgyne', 'Agender', 'cis-female/femme', 'Guy (-ish) ^_^', 'male leaning androgynous', 'Male ', 'Man', 'Trans woman', 'msle', 'Neuter', 'Female (trans)', 'queer', 'Female (cis)', 'Mail', 'cis male', 'A little about you', 'Malr', 'p', 'femail', 'Cis Man', 'ostensibly male, unsure what that really means']\n",
      "\n",
      "self_employed\n",
      "['NA', 'Yes', 'No']\n",
      "\n",
      "family_history\n",
      "['No', 'Yes']\n",
      "\n",
      "treatment\n",
      "['Yes', 'No']\n",
      "\n",
      "work_interfere\n",
      "['Often', 'Rarely', 'Never', 'Sometimes', 'NA']\n",
      "\n",
      "no_employees\n",
      "['6-25', 'More than 1000', '26-100', '100-500', '1-5', '500-1000']\n",
      "\n",
      "remote_work\n",
      "['No', 'Yes']\n",
      "\n",
      "tech_company\n",
      "['Yes', 'No']\n",
      "\n",
      "benefits\n",
      "['Yes', \"Don't know\", 'No']\n",
      "\n",
      "care_options\n",
      "['Not sure', 'No', 'Yes']\n",
      "\n",
      "wellness_program\n",
      "['No', \"Don't know\", 'Yes']\n",
      "\n",
      "seek_help\n",
      "['Yes', \"Don't know\", 'No']\n",
      "\n",
      "anonymity\n",
      "['Yes', \"Don't know\", 'No']\n",
      "\n",
      "leave\n",
      "['Somewhat easy', \"Don't know\", 'Somewhat difficult', 'Very difficult', 'Very easy']\n",
      "\n",
      "mental_health_consequence\n",
      "['No', 'Maybe', 'Yes']\n",
      "\n",
      "phys_health_consequence\n",
      "['No', 'Yes', 'Maybe']\n",
      "\n",
      "coworkers\n",
      "['Some of them', 'No', 'Yes']\n",
      "\n",
      "supervisor\n",
      "['Yes', 'No', 'Some of them']\n",
      "\n",
      "mental_health_interview\n",
      "['No', 'Yes', 'Maybe']\n",
      "\n",
      "phys_health_interview\n",
      "['Maybe', 'No', 'Yes']\n",
      "\n",
      "mental_vs_physical\n",
      "['Yes', \"Don't know\", 'No']\n",
      "\n",
      "obs_consequence\n",
      "['No', 'Yes']\n"
     ]
    }
   ],
   "source": [
    "for names in survey_table.column_names:\n",
    "    labels = myutils.get_groups_in_col(survey_table.data,survey_table.column_names,names)\n",
    "    print()\n",
    "    print(names)\n",
    "    print(labels)"
   ]
  },
  {
   "cell_type": "markdown",
   "metadata": {},
   "source": [
    "- Gender: Male, M, Female, F, m, f, cis-female/femme, cis-male and mispelling such as msle and \"A little about you\". Other categories such as male-ish, trans, neuter and p are also present but in relatively low amount (2- 3 rows ish in the whole dataset). Because of this, mispellings and other categories rows will be removed because it is ambiguous as to how to classify them as well as the low number of rows having this classification, so it has little impact. Female, female f and cis-female will be converted to F, and Male, male, m and cis-male will be converted to male "
   ]
  },
  {
   "cell_type": "code",
   "execution_count": 5,
   "metadata": {},
   "outputs": [
    {
     "name": "stdout",
     "output_type": "stream",
     "text": [
      "['Female', 'M', 'Male', 'male', 'female', 'm', 'Male-ish', 'maile', 'Trans-female', 'Cis Female', 'F', 'something kinda male?', 'Cis Male', 'Woman', 'f', 'Mal', 'Male (CIS)', 'queer/she/they', 'non-binary', 'Femake', 'woman', 'Make', 'Nah', 'All', 'Enby', 'fluid', 'Genderqueer', 'Female ', 'Androgyne', 'Agender', 'cis-female/femme', 'Guy (-ish) ^_^', 'male leaning androgynous', 'Male ', 'Man', 'Trans woman', 'msle', 'Neuter', 'Female (trans)', 'queer', 'Female (cis)', 'Mail', 'cis male', 'A little about you', 'Malr', 'p', 'femail', 'Cis Man', 'ostensibly male, unsure what that really means']\n"
     ]
    }
   ],
   "source": [
    "# group up by gender  \n",
    "gender_labels = myutils.get_groups_in_col(survey_table.data,survey_table.column_names,\"Gender\")\n",
    "print(gender_labels)"
   ]
  },
  {
   "cell_type": "code",
   "execution_count": 6,
   "metadata": {},
   "outputs": [
    {
     "name": "stdout",
     "output_type": "stream",
     "text": [
      "1214\n"
     ]
    }
   ],
   "source": [
    "#remove any gender label that is not Male, m, M, female, Female, f or Cis Female or Cis Male\n",
    "gender_col= survey_table.get_column(\"Gender\")\n",
    "col_index = survey_table.column_names.index(\"Gender\")\n",
    "survey_table.data = myutils.remove_gender_rows(survey_table.data, gender_col,col_index)\n",
    "print(len(gender_col)) # only 45 rows removed in total"
   ]
  },
  {
   "cell_type": "markdown",
   "metadata": {},
   "source": [
    "- self_employed: No, Yes and NA. NA will be discarded because of low ambiguity and also not obvious classification, and also the number of rows present are not alot  \n",
    "- NA in work_interfere will also be discarded"
   ]
  },
  {
   "cell_type": "code",
   "execution_count": 7,
   "metadata": {},
   "outputs": [
    {
     "name": "stdout",
     "output_type": "stream",
     "text": [
      "1214\n",
      "1205\n"
     ]
    }
   ],
   "source": [
    "# group up by self_employed:  \n",
    "print(len(survey_table.data))\n",
    "self_employed_labels = myutils.get_groups_in_col(survey_table.data,survey_table.column_names,\"self_employed\")\n",
    "\n",
    "# remove NA values\n",
    "survey_table.data = myutils.remove_NA(survey_table.data,survey_table.column_names,\"self_employed\")\n",
    "print(len(survey_table.data)) # only 9 rows removed"
   ]
  },
  {
   "cell_type": "code",
   "execution_count": 8,
   "metadata": {},
   "outputs": [
    {
     "name": "stdout",
     "output_type": "stream",
     "text": [
      "['Often', 'Rarely', 'Never', 'Sometimes', 'NA']\n",
      "1005\n"
     ]
    }
   ],
   "source": [
    "# group up by work interfere:  \n",
    "work_inf_labels = myutils.get_groups_in_col(survey_table.data,survey_table.column_names,\"work_interfere\")\n",
    "print(work_inf_labels)\n",
    "\n",
    "# remove NA values\n",
    "survey_table.data = myutils.remove_NA(survey_table.data,survey_table.column_names,\"work_interfere\")\n",
    "print(len(survey_table.data)) # 200 rows removed\n"
   ]
  },
  {
   "cell_type": "markdown",
   "metadata": {},
   "source": [
    "Group by age:  \n",
    "The following is a popular type of demographic question for age, this one taken from the profile questionnaire for the American Marketing Association itself:\n",
    "\n",
    "Age Range  \n",
    "[ ] 21 and Under  \n",
    "[ ] 22 to 34  \n",
    "[ ] 35 to 44  \n",
    "[ ] 45 to 54  \n",
    "[ ] 55 to 64  \n",
    "[ ] 65 and Over  "
   ]
  },
  {
   "cell_type": "code",
   "execution_count": 9,
   "metadata": {},
   "outputs": [],
   "source": [
    "# group age values\n",
    "survey_table.data = myutils.group_by_age(survey_table.data,survey_table.column_names,\"Age\")"
   ]
  },
  {
   "cell_type": "markdown",
   "metadata": {},
   "source": [
    "## 3. Attribute Selection\n",
    "a) use scikit learn to implement $X^2$"
   ]
  },
  {
   "cell_type": "code",
   "execution_count": 10,
   "metadata": {},
   "outputs": [],
   "source": [
    "survey_table.data = myutils.convert_attributes_to_numeric(survey_table.data,survey_table.column_names)\n",
    "# print(survey_table.data)\n",
    "y_data = myutils.get_column(survey_table.data,survey_table.column_names, \"mental_health_consequence\")\n",
    "X_data, X_header = myutils.remove_column(survey_table.data,survey_table.column_names, \"mental_health_consequence\")"
   ]
  },
  {
   "cell_type": "code",
   "execution_count": 11,
   "metadata": {},
   "outputs": [
    {
     "name": "stdout",
     "output_type": "stream",
     "text": [
      "p-values > 0.05\n",
      "Age 0.8824733457290607\n",
      "Gender 0.15795134688643178\n",
      "self_employed 0.6796214001313641\n",
      "family_history 0.078255208808712\n",
      "work_interfere 0.08993466307843892\n",
      "no_employees 0.5793739376203617\n",
      "remote_work 0.33147416819557657\n",
      "benefits 0.053843040003000935\n",
      "care_options 0.6531744396799135\n",
      "phys_health_interview 0.18637924658189706\n"
     ]
    }
   ],
   "source": [
    "chi_2, p_value = chi2(X_data, y_data)\n",
    "headers_to_remove = myutils.col_pval(p_value, X_header)"
   ]
  },
  {
   "cell_type": "code",
   "execution_count": 12,
   "metadata": {},
   "outputs": [
    {
     "name": "stdout",
     "output_type": "stream",
     "text": [
      "['treatment', 'tech_company', 'wellness_program', 'seek_help', 'anonymity', 'leave', 'phys_health_consequence', 'coworkers', 'supervisor', 'mental_health_interview', 'mental_vs_physical', 'obs_consequence']\n"
     ]
    }
   ],
   "source": [
    "# remove headers with p_value larger than 0.05\n",
    "for header in headers_to_remove:\n",
    "    survey_table.data, survey_table.column_names = myutils.remove_column(survey_table.data,survey_table.column_names,header)\n",
    "print(survey_table.column_names)"
   ]
  }
 ],
 "metadata": {
  "interpreter": {
   "hash": "d4d1e4263499bec80672ea0156c357c1ee493ec2b1c70f0acce89fc37c4a6abe"
  },
  "kernelspec": {
   "display_name": "Python 3.9.7 ('base')",
   "language": "python",
   "name": "python3"
  },
  "language_info": {
   "codemirror_mode": {
    "name": "ipython",
    "version": 3
   },
   "file_extension": ".py",
   "mimetype": "text/x-python",
   "name": "python",
   "nbconvert_exporter": "python",
   "pygments_lexer": "ipython3",
   "version": "3.9.7"
  },
  "orig_nbformat": 4
 },
 "nbformat": 4,
 "nbformat_minor": 2
}
